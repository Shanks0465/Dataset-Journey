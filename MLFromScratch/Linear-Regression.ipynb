{
 "cells": [
  {
   "cell_type": "code",
   "execution_count": 14,
   "metadata": {},
   "outputs": [],
   "source": [
    "# Import numpy and pandas for Processing Arrays and Dataset,matplotlib and seaborn for Visualization\n",
    "import numpy as np \n",
    "import pandas as pd \n",
    "import seaborn as sns\n",
    "import matplotlib.pyplot as plt"
   ]
  },
  {
   "cell_type": "code",
   "execution_count": 15,
   "metadata": {},
   "outputs": [],
   "source": [
    "data=pd.read_csv('D:\\\\Projects\\\\Notebooks\\\\DatasetJourney\\\\Datasets\\\\headbrain.csv') #Read the CSV Dataset into a pandas Dataframe"
   ]
  },
  {
   "cell_type": "code",
   "execution_count": 16,
   "metadata": {},
   "outputs": [
    {
     "name": "stdout",
     "output_type": "stream",
     "text": [
      "(237, 4)\n"
     ]
    }
   ],
   "source": [
    "print(data.shape) # Print Dataset Shape"
   ]
  },
  {
   "cell_type": "code",
   "execution_count": 17,
   "metadata": {},
   "outputs": [
    {
     "data": {
      "text/html": [
       "<div>\n",
       "<style scoped>\n",
       "    .dataframe tbody tr th:only-of-type {\n",
       "        vertical-align: middle;\n",
       "    }\n",
       "\n",
       "    .dataframe tbody tr th {\n",
       "        vertical-align: top;\n",
       "    }\n",
       "\n",
       "    .dataframe thead th {\n",
       "        text-align: right;\n",
       "    }\n",
       "</style>\n",
       "<table border=\"1\" class=\"dataframe\">\n",
       "  <thead>\n",
       "    <tr style=\"text-align: right;\">\n",
       "      <th></th>\n",
       "      <th>Gender</th>\n",
       "      <th>AgeCat</th>\n",
       "      <th>HeadSize</th>\n",
       "      <th>BrainWeight</th>\n",
       "    </tr>\n",
       "  </thead>\n",
       "  <tbody>\n",
       "    <tr>\n",
       "      <th>0</th>\n",
       "      <td>1</td>\n",
       "      <td>1</td>\n",
       "      <td>4512</td>\n",
       "      <td>1530</td>\n",
       "    </tr>\n",
       "    <tr>\n",
       "      <th>1</th>\n",
       "      <td>1</td>\n",
       "      <td>1</td>\n",
       "      <td>3738</td>\n",
       "      <td>1297</td>\n",
       "    </tr>\n",
       "    <tr>\n",
       "      <th>2</th>\n",
       "      <td>1</td>\n",
       "      <td>1</td>\n",
       "      <td>4261</td>\n",
       "      <td>1335</td>\n",
       "    </tr>\n",
       "    <tr>\n",
       "      <th>3</th>\n",
       "      <td>1</td>\n",
       "      <td>1</td>\n",
       "      <td>3777</td>\n",
       "      <td>1282</td>\n",
       "    </tr>\n",
       "    <tr>\n",
       "      <th>4</th>\n",
       "      <td>1</td>\n",
       "      <td>1</td>\n",
       "      <td>4177</td>\n",
       "      <td>1590</td>\n",
       "    </tr>\n",
       "  </tbody>\n",
       "</table>\n",
       "</div>"
      ],
      "text/plain": [
       "   Gender  AgeCat  HeadSize  BrainWeight\n",
       "0       1       1      4512         1530\n",
       "1       1       1      3738         1297\n",
       "2       1       1      4261         1335\n",
       "3       1       1      3777         1282\n",
       "4       1       1      4177         1590"
      ]
     },
     "execution_count": 17,
     "metadata": {},
     "output_type": "execute_result"
    }
   ],
   "source": [
    "data.head() # Print First 5 rows of the Dataframe"
   ]
  },
  {
   "cell_type": "code",
   "execution_count": 18,
   "metadata": {},
   "outputs": [
    {
     "name": "stdout",
     "output_type": "stream",
     "text": [
      "<class 'pandas.core.frame.DataFrame'>\n",
      "RangeIndex: 237 entries, 0 to 236\n",
      "Data columns (total 4 columns):\n",
      " #   Column       Non-Null Count  Dtype\n",
      "---  ------       --------------  -----\n",
      " 0   Gender       237 non-null    int64\n",
      " 1   AgeCat       237 non-null    int64\n",
      " 2   HeadSize     237 non-null    int64\n",
      " 3   BrainWeight  237 non-null    int64\n",
      "dtypes: int64(4)\n",
      "memory usage: 7.5 KB\n"
     ]
    }
   ],
   "source": [
    "data.info() # Dataset Information"
   ]
  },
  {
   "cell_type": "code",
   "execution_count": 19,
   "metadata": {},
   "outputs": [
    {
     "data": {
      "text/html": [
       "<div>\n",
       "<style scoped>\n",
       "    .dataframe tbody tr th:only-of-type {\n",
       "        vertical-align: middle;\n",
       "    }\n",
       "\n",
       "    .dataframe tbody tr th {\n",
       "        vertical-align: top;\n",
       "    }\n",
       "\n",
       "    .dataframe thead th {\n",
       "        text-align: right;\n",
       "    }\n",
       "</style>\n",
       "<table border=\"1\" class=\"dataframe\">\n",
       "  <thead>\n",
       "    <tr style=\"text-align: right;\">\n",
       "      <th></th>\n",
       "      <th>Gender</th>\n",
       "      <th>AgeCat</th>\n",
       "      <th>HeadSize</th>\n",
       "      <th>BrainWeight</th>\n",
       "    </tr>\n",
       "  </thead>\n",
       "  <tbody>\n",
       "    <tr>\n",
       "      <th>count</th>\n",
       "      <td>237.000000</td>\n",
       "      <td>237.000000</td>\n",
       "      <td>237.000000</td>\n",
       "      <td>237.000000</td>\n",
       "    </tr>\n",
       "    <tr>\n",
       "      <th>mean</th>\n",
       "      <td>1.434599</td>\n",
       "      <td>1.535865</td>\n",
       "      <td>3633.991561</td>\n",
       "      <td>1282.873418</td>\n",
       "    </tr>\n",
       "    <tr>\n",
       "      <th>std</th>\n",
       "      <td>0.496753</td>\n",
       "      <td>0.499768</td>\n",
       "      <td>365.261422</td>\n",
       "      <td>120.340446</td>\n",
       "    </tr>\n",
       "    <tr>\n",
       "      <th>min</th>\n",
       "      <td>1.000000</td>\n",
       "      <td>1.000000</td>\n",
       "      <td>2720.000000</td>\n",
       "      <td>955.000000</td>\n",
       "    </tr>\n",
       "    <tr>\n",
       "      <th>25%</th>\n",
       "      <td>1.000000</td>\n",
       "      <td>1.000000</td>\n",
       "      <td>3389.000000</td>\n",
       "      <td>1207.000000</td>\n",
       "    </tr>\n",
       "    <tr>\n",
       "      <th>50%</th>\n",
       "      <td>1.000000</td>\n",
       "      <td>2.000000</td>\n",
       "      <td>3614.000000</td>\n",
       "      <td>1280.000000</td>\n",
       "    </tr>\n",
       "    <tr>\n",
       "      <th>75%</th>\n",
       "      <td>2.000000</td>\n",
       "      <td>2.000000</td>\n",
       "      <td>3876.000000</td>\n",
       "      <td>1350.000000</td>\n",
       "    </tr>\n",
       "    <tr>\n",
       "      <th>max</th>\n",
       "      <td>2.000000</td>\n",
       "      <td>2.000000</td>\n",
       "      <td>4747.000000</td>\n",
       "      <td>1635.000000</td>\n",
       "    </tr>\n",
       "  </tbody>\n",
       "</table>\n",
       "</div>"
      ],
      "text/plain": [
       "           Gender      AgeCat     HeadSize  BrainWeight\n",
       "count  237.000000  237.000000   237.000000   237.000000\n",
       "mean     1.434599    1.535865  3633.991561  1282.873418\n",
       "std      0.496753    0.499768   365.261422   120.340446\n",
       "min      1.000000    1.000000  2720.000000   955.000000\n",
       "25%      1.000000    1.000000  3389.000000  1207.000000\n",
       "50%      1.000000    2.000000  3614.000000  1280.000000\n",
       "75%      2.000000    2.000000  3876.000000  1350.000000\n",
       "max      2.000000    2.000000  4747.000000  1635.000000"
      ]
     },
     "execution_count": 19,
     "metadata": {},
     "output_type": "execute_result"
    }
   ],
   "source": [
    "data.describe() #Statistical Information on the Dataset"
   ]
  },
  {
   "cell_type": "code",
   "execution_count": 22,
   "metadata": {},
   "outputs": [
    {
     "data": {
      "image/png": "[encoded data removed]",
      "text/plain": [
       "<Figure size 720x720 with 1 Axes>"
      ]
     },
     "metadata": {
      "needs_background": "light"
     },
     "output_type": "display_data"
    }
   ],
   "source": [
    "# Plot the Dataset (Head Size vs Brain Weight)\n",
    "plt.figure(figsize=(10,10))\n",
    "sns.scatterplot(y='BrainWeight',x='HeadSize',data=data)\n",
    "plt.show()"
   ]
  },
  {
   "cell_type": "code",
   "execution_count": 23,
   "metadata": {},
   "outputs": [],
   "source": [
    "# Create function for calculating mean, variance and covariance\n",
    "def mean(values):\n",
    "    return sum(values) / float(len(values))\n",
    "\n",
    "def covariance(x, mean_x, y, mean_y):\n",
    "    covar = 0.0\n",
    "    for i in range(len(x)):\n",
    "        covar += (x[i] - mean_x) * (y[i] - mean_y)\n",
    "    return covar\n",
    "\n",
    "def variance(values, mean):\n",
    "    return sum([(x-mean)**2 for x in values])"
   ]
  },
  {
   "cell_type": "code",
   "execution_count": 25,
   "metadata": {},
   "outputs": [],
   "source": [
    "# Next is to calculate coefficients for each Input Attribute\n",
    "def coefficients(dataset):\n",
    "    x = [row[0] for row in dataset]\n",
    "    y = [row[1] for row in dataset]\n",
    "    x_mean, y_mean = mean(x), mean(y)\n",
    "    b1 = covariance(x, x_mean, y, y_mean) / variance(x, x_mean)\n",
    "    b0 = y_mean - b1 * x_mean\n",
    "    return [b0, b1]"
   ]
  },
  {
   "cell_type": "code",
   "execution_count": 26,
   "metadata": {},
   "outputs": [],
   "source": [
    "# Create the Linear Regression Model Function\n",
    "def simple_linear_regression(train, test):\n",
    "    predictions = list()\n",
    "    b0, b1 = coefficients(train)\n",
    "    for row in test:\n",
    "        yhat = b0 + b1 * row[0]\n",
    "        predictions.append(yhat)\n",
    "    return predictions"
   ]
  },
  {
   "cell_type": "code",
   "execution_count": 28,
   "metadata": {},
   "outputs": [],
   "source": [
    "# Get the X and y values from the Dataframe\n",
    "X=data[\"HeadSize\"]\n",
    "y=data[\"BrainWeight\"]"
   ]
  },
  {
   "cell_type": "code",
   "execution_count": 29,
   "metadata": {},
   "outputs": [],
   "source": [
    "# Create the dataset with [X,y] pairs\n",
    "dataset=[]\n",
    "for i in range(data.shape[0]):\n",
    "    dataset.append([X[i],y[i]])"
   ]
  },
  {
   "cell_type": "code",
   "execution_count": 33,
   "metadata": {},
   "outputs": [],
   "source": [
    "# Create function for train test split\n",
    "def train_test_split(dataset,ratio):\n",
    "    length=len(dataset)\n",
    "    split_val=length*ratio\n",
    "    train_length=length-int(split_val)\n",
    "    train=dataset[0:train_length]\n",
    "    test=dataset[train_length:]\n",
    "    return train,test"
   ]
  },
  {
   "cell_type": "code",
   "execution_count": 34,
   "metadata": {},
   "outputs": [],
   "source": [
    "train,test=train_test_split(dataset,0.2) #Split the dataset into Train and Test"
   ]
  },
  {
   "cell_type": "code",
   "execution_count": 38,
   "metadata": {},
   "outputs": [],
   "source": [
    "predictions=simple_linear_regression(train,test) # Fit the linear regression model on the dataset"
   ]
  },
  {
   "cell_type": "code",
   "execution_count": 40,
   "metadata": {},
   "outputs": [
    {
     "name": "stdout",
     "output_type": "stream",
     "text": [
      "Test Brain Weight Value: 1237 Predicted Value: 1170.4559410738702\n",
      "Test Brain Weight Value: 1204 Predicted Value: 1217.6342009987711\n",
      "Test Brain Weight Value: 1090 Predicted Value: 1129.2685712981634\n",
      "Test Brain Weight Value: 1355 Predicted Value: 1300.7578018188347\n",
      "Test Brain Weight Value: 1250 Predicted Value: 1268.057526421152\n",
      "Test Brain Weight Value: 1076 Predicted Value: 1072.6047353037056\n",
      "Test Brain Weight Value: 1120 Predicted Value: 1143.7465558253816\n",
      "Test Brain Weight Value: 1220 Predicted Value: 1215.1379967699404\n",
      "Test Brain Weight Value: 1240 Predicted Value: 1252.3314397795184\n",
      "Test Brain Weight Value: 1220 Predicted Value: 1203.405836894436\n",
      "Test Brain Weight Value: 1095 Predicted Value: 1219.1319235360697\n",
      "Test Brain Weight Value: 1235 Predicted Value: 1186.1820277155039\n",
      "Test Brain Weight Value: 1105 Predicted Value: 1198.4134284367747\n",
      "Test Brain Weight Value: 1405 Predicted Value: 1341.6955511716587\n",
      "Test Brain Weight Value: 1150 Predicted Value: 1145.993139631329\n",
      "Test Brain Weight Value: 1305 Predicted Value: 1302.00590393325\n",
      "Test Brain Weight Value: 1220 Predicted Value: 1229.6159812971587\n",
      "Test Brain Weight Value: 1296 Predicted Value: 1377.6408920668214\n",
      "Test Brain Weight Value: 1175 Predicted Value: 1208.6478657749806\n",
      "Test Brain Weight Value: 955 Predicted Value: 1059.3748528909027\n",
      "Test Brain Weight Value: 1070 Predicted Value: 1113.5424846565297\n",
      "Test Brain Weight Value: 1320 Predicted Value: 1274.048416570346\n",
      "Test Brain Weight Value: 1060 Predicted Value: 1114.0417255022958\n",
      "Test Brain Weight Value: 1130 Predicted Value: 1126.5227466464494\n",
      "Test Brain Weight Value: 1250 Predicted Value: 1275.5461391076442\n",
      "Test Brain Weight Value: 1225 Predicted Value: 1168.2093572679228\n",
      "Test Brain Weight Value: 1180 Predicted Value: 1190.6751953273993\n",
      "Test Brain Weight Value: 1178 Predicted Value: 1171.7040431882856\n",
      "Test Brain Weight Value: 1142 Predicted Value: 1196.166844630827\n",
      "Test Brain Weight Value: 1130 Predicted Value: 1226.3709157996789\n",
      "Test Brain Weight Value: 1185 Predicted Value: 1224.3739524166142\n",
      "Test Brain Weight Value: 1012 Predicted Value: 1095.3201937860651\n",
      "Test Brain Weight Value: 1280 Predicted Value: 1313.9876842316376\n",
      "Test Brain Weight Value: 1103 Predicted Value: 1248.8367538591556\n",
      "Test Brain Weight Value: 1408 Predicted Value: 1290.7729849035118\n",
      "Test Brain Weight Value: 1300 Predicted Value: 1307.996794082444\n",
      "Test Brain Weight Value: 1246 Predicted Value: 1200.160771396956\n",
      "Test Brain Weight Value: 1380 Predicted Value: 1429.8115604493837\n",
      "Test Brain Weight Value: 1350 Predicted Value: 1312.7395821172222\n",
      "Test Brain Weight Value: 1060 Predicted Value: 1183.6858234866731\n",
      "Test Brain Weight Value: 1350 Predicted Value: 1300.2585609730686\n",
      "Test Brain Weight Value: 1220 Predicted Value: 1305.001349007847\n",
      "Test Brain Weight Value: 1110 Predicted Value: 1182.687341795141\n",
      "Test Brain Weight Value: 1215 Predicted Value: 1227.6190179140942\n",
      "Test Brain Weight Value: 1104 Predicted Value: 1187.4301298299192\n",
      "Test Brain Weight Value: 1170 Predicted Value: 1217.134960153005\n",
      "Test Brain Weight Value: 1120 Predicted Value: 1226.870156645445\n"
     ]
    }
   ],
   "source": [
    "for i in range(len(test)):\n",
    "    print(\"Test Brain Weight Value: \"+str(test[i][1])+\" Predicted Value: \"+str(predictions[i]))"
   ]
  },
  {
   "cell_type": "code",
   "execution_count": 55,
   "metadata": {},
   "outputs": [],
   "source": [
    "# Create the function for RMSE Evaluation Metric\n",
    "from math import sqrt\n",
    "def rmse_metric(actual, predicted):\n",
    "    sum_error = 0.0\n",
    "    for i in range(len(actual)):\n",
    "        prediction_error = predicted[i] - actual[i]\n",
    "        sum_error += (prediction_error ** 2)\n",
    "    mean_error = sum_error / float(len(actual))\n",
    "    return sqrt(mean_error)"
   ]
  },
  {
   "cell_type": "code",
   "execution_count": 56,
   "metadata": {},
   "outputs": [],
   "source": [
    "actual=[]\n",
    "for i in range(len(test)):\n",
    "    actual.append(test[i][1])"
   ]
  },
  {
   "cell_type": "code",
   "execution_count": 57,
   "metadata": {},
   "outputs": [],
   "source": [
    "rmse=rmse_metric(actual,predictions)"
   ]
  },
  {
   "cell_type": "code",
   "execution_count": 59,
   "metadata": {},
   "outputs": [
    {
     "name": "stdout",
     "output_type": "stream",
     "text": [
      " RMSE on Test Set: 62.690552763366675\n"
     ]
    }
   ],
   "source": [
    "print(\" RMSE on Test Set: \"+str(rmse))"
   ]
  }
 ],
 "metadata": {
  "kernelspec": {
   "display_name": "Python 3",
   "language": "python",
   "name": "python3"
  },
  "language_info": {
   "codemirror_mode": {
    "name": "ipython",
    "version": 3
   },
   "file_extension": ".py",
   "mimetype": "text/x-python",
   "name": "python",
   "nbconvert_exporter": "python",
   "pygments_lexer": "ipython3",
   "version": "3.7.7"
  }
 },
 "nbformat": 4,
 "nbformat_minor": 4
}
