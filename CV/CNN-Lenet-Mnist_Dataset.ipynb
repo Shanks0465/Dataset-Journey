{
 "cells": [
  {
   "cell_type": "code",
   "execution_count": 17,
   "metadata": {},
   "outputs": [],
   "source": [
    "from keras.datasets import mnist\n",
    "from keras.optimizers import SGD\n",
    "from keras.models import Sequential\n",
    "from keras.layers.convolutional import Conv2D\n",
    "from keras.layers.convolutional import MaxPooling2D\n",
    "from keras.layers.core import Activation\n",
    "from keras.layers.core import Flatten\n",
    "from keras.layers.core import Dense\n",
    "from keras import backend as K\n",
    "from keras.utils import np_utils"
   ]
  },
  {
   "cell_type": "code",
   "execution_count": 18,
   "metadata": {},
   "outputs": [],
   "source": [
    "((trainData, trainLabels), (testData, testLabels)) = mnist.load_data()"
   ]
  },
  {
   "cell_type": "code",
   "execution_count": 19,
   "metadata": {},
   "outputs": [],
   "source": [
    "trainData = trainData.reshape((trainData.shape[0], 28, 28, 1))\n",
    "testData = testData.reshape((testData.shape[0], 28, 28, 1))"
   ]
  },
  {
   "cell_type": "code",
   "execution_count": 20,
   "metadata": {},
   "outputs": [],
   "source": [
    "trainData = trainData.astype(\"float32\") / 255.0\n",
    "testData = testData.astype(\"float32\") / 255.0"
   ]
  },
  {
   "cell_type": "code",
   "execution_count": 21,
   "metadata": {},
   "outputs": [],
   "source": [
    "trainLabels = np_utils.to_categorical(trainLabels, 10)\n",
    "testLabels = np_utils.to_categorical(testLabels, 10)"
   ]
  },
  {
   "cell_type": "code",
   "execution_count": 26,
   "metadata": {},
   "outputs": [],
   "source": [
    "class LeNet:\n",
    "\tdef build(numChannels, imgRows, imgCols, numClasses,activation=\"relu\", weightsPath=None):\n",
    "\t\tmodel = Sequential()\n",
    "\t\tinputShape = (imgRows, imgCols, numChannels)\n",
    "\t\tmodel.add(Conv2D(20, 5, padding=\"same\",input_shape=inputShape))\n",
    "\t\tmodel.add(Activation(activation))\n",
    "\t\tmodel.add(MaxPooling2D(pool_size=(2, 2), strides=(2, 2)))\n",
    "\t\tmodel.add(Conv2D(50, 5, padding=\"same\"))\n",
    "\t\tmodel.add(Activation(activation))\n",
    "\t\tmodel.add(MaxPooling2D(pool_size=(2, 2), strides=(2, 2)))\n",
    "\t\tmodel.add(Flatten())\n",
    "\t\tmodel.add(Dense(500))\n",
    "\t\tmodel.add(Activation(activation))\n",
    "\t\tmodel.add(Dense(numClasses))\n",
    "\t\tmodel.add(Activation(\"softmax\"))\n",
    "\t\treturn model"
   ]
  },
  {
   "cell_type": "code",
   "execution_count": 27,
   "metadata": {},
   "outputs": [],
   "source": [
    "model = LeNet.build(numChannels=1, imgRows=28, imgCols=28,numClasses=10)"
   ]
  },
  {
   "cell_type": "code",
   "execution_count": 28,
   "metadata": {},
   "outputs": [
    {
     "name": "stdout",
     "output_type": "stream",
     "text": [
      "Model: \"sequential_1\"\n",
      "_________________________________________________________________\n",
      "Layer (type)                 Output Shape              Param #   \n",
      "=================================================================\n",
      "conv2d_2 (Conv2D)            (None, 28, 28, 20)        520       \n",
      "_________________________________________________________________\n",
      "activation_4 (Activation)    (None, 28, 28, 20)        0         \n",
      "_________________________________________________________________\n",
      "max_pooling2d_2 (MaxPooling2 (None, 14, 14, 20)        0         \n",
      "_________________________________________________________________\n",
      "conv2d_3 (Conv2D)            (None, 14, 14, 50)        25050     \n",
      "_________________________________________________________________\n",
      "activation_5 (Activation)    (None, 14, 14, 50)        0         \n",
      "_________________________________________________________________\n",
      "max_pooling2d_3 (MaxPooling2 (None, 7, 7, 50)          0         \n",
      "_________________________________________________________________\n",
      "flatten_1 (Flatten)          (None, 2450)              0         \n",
      "_________________________________________________________________\n",
      "dense_2 (Dense)              (None, 500)               1225500   \n",
      "_________________________________________________________________\n",
      "activation_6 (Activation)    (None, 500)               0         \n",
      "_________________________________________________________________\n",
      "dense_3 (Dense)              (None, 10)                5010      \n",
      "_________________________________________________________________\n",
      "activation_7 (Activation)    (None, 10)                0         \n",
      "=================================================================\n",
      "Total params: 1,256,080\n",
      "Trainable params: 1,256,080\n",
      "Non-trainable params: 0\n",
      "_________________________________________________________________\n"
     ]
    }
   ],
   "source": [
    "model.summary()"
   ]
  },
  {
   "cell_type": "code",
   "execution_count": 29,
   "metadata": {},
   "outputs": [],
   "source": [
    "opt = SGD(lr=0.01)\n",
    "model.compile(loss=\"categorical_crossentropy\", optimizer=opt,metrics=[\"accuracy\"])"
   ]
  },
  {
   "cell_type": "code",
   "execution_count": 30,
   "metadata": {},
   "outputs": [
    {
     "name": "stdout",
     "output_type": "stream",
     "text": [
      "Epoch 1/20\n",
      "469/469 - 5s - loss: 0.9225 - accuracy: 0.7556\n",
      "Epoch 2/20\n",
      "469/469 - 4s - loss: 0.2615 - accuracy: 0.9225\n",
      "Epoch 3/20\n",
      "469/469 - 4s - loss: 0.1882 - accuracy: 0.9435\n",
      "Epoch 4/20\n",
      "469/469 - 5s - loss: 0.1474 - accuracy: 0.9564\n",
      "Epoch 5/20\n",
      "469/469 - 4s - loss: 0.1219 - accuracy: 0.9640\n",
      "Epoch 6/20\n",
      "469/469 - 5s - loss: 0.1043 - accuracy: 0.9692\n",
      "Epoch 7/20\n",
      "469/469 - 4s - loss: 0.0917 - accuracy: 0.9720\n",
      "Epoch 8/20\n",
      "469/469 - 4s - loss: 0.0819 - accuracy: 0.9753\n",
      "Epoch 9/20\n",
      "469/469 - 5s - loss: 0.0750 - accuracy: 0.9773\n",
      "Epoch 10/20\n",
      "469/469 - 5s - loss: 0.0700 - accuracy: 0.9788\n",
      "Epoch 11/20\n",
      "469/469 - 4s - loss: 0.0643 - accuracy: 0.9804\n",
      "Epoch 12/20\n",
      "469/469 - 4s - loss: 0.0601 - accuracy: 0.9823\n",
      "Epoch 13/20\n",
      "469/469 - 4s - loss: 0.0567 - accuracy: 0.9824\n",
      "Epoch 14/20\n",
      "469/469 - 5s - loss: 0.0532 - accuracy: 0.9840\n",
      "Epoch 15/20\n",
      "469/469 - 4s - loss: 0.0504 - accuracy: 0.9848\n",
      "Epoch 16/20\n",
      "469/469 - 5s - loss: 0.0483 - accuracy: 0.9853\n",
      "Epoch 17/20\n",
      "469/469 - 5s - loss: 0.0457 - accuracy: 0.9864\n",
      "Epoch 18/20\n",
      "469/469 - 5s - loss: 0.0437 - accuracy: 0.9869\n",
      "Epoch 19/20\n",
      "469/469 - 4s - loss: 0.0422 - accuracy: 0.9873\n",
      "Epoch 20/20\n",
      "469/469 - 4s - loss: 0.0400 - accuracy: 0.9880\n"
     ]
    },
    {
     "data": {
      "text/plain": [
       "<tensorflow.python.keras.callbacks.History at 0x199659571c8>"
      ]
     },
     "execution_count": 30,
     "metadata": {},
     "output_type": "execute_result"
    }
   ],
   "source": [
    "model.fit(trainData, trainLabels, batch_size=128, epochs=20,verbose=2)"
   ]
  },
  {
   "cell_type": "code",
   "execution_count": 31,
   "metadata": {},
   "outputs": [
    {
     "name": "stdout",
     "output_type": "stream",
     "text": [
      "79/79 [==============================] - 0s 5ms/step - loss: 0.0412 - accuracy: 0.9862\n"
     ]
    }
   ],
   "source": [
    "(loss, accuracy) = model.evaluate(testData, testLabels,batch_size=128, verbose=1)"
   ]
  },
  {
   "cell_type": "code",
   "execution_count": 34,
   "metadata": {},
   "outputs": [
    {
     "name": "stdout",
     "output_type": "stream",
     "text": [
      "Accuracy: 98.62%\n"
     ]
    }
   ],
   "source": [
    "print(\"Accuracy: {:.2f}%\".format(accuracy * 100))"
   ]
  },
  {
   "cell_type": "code",
   "execution_count": 36,
   "metadata": {},
   "outputs": [],
   "source": [
    "model.save('Lenet.h5')"
   ]
  }
 ],
 "metadata": {
  "kernelspec": {
   "display_name": "Python 3",
   "language": "python",
   "name": "python3"
  },
  "language_info": {
   "codemirror_mode": {
    "name": "ipython",
    "version": 3
   },
   "file_extension": ".py",
   "mimetype": "text/x-python",
   "name": "python",
   "nbconvert_exporter": "python",
   "pygments_lexer": "ipython3",
   "version": "3.7.7"
  }
 },
 "nbformat": 4,
 "nbformat_minor": 4
}
